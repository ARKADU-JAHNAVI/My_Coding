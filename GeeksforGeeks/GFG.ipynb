{
 "cells": [
  {
   "cell_type": "code",
   "execution_count": null,
   "id": "bceee57e",
   "metadata": {},
   "outputs": [],
   "source": [
    "Input: a[] = [11, 7, 1, 13, 21, 3, 7, 3], b[] = [11, 3, 7, 1, 7]\n",
    "Output: true\n",
    "Explanation: b[] is a subset of a[]"
   ]
  },
  {
   "cell_type": "code",
   "execution_count": null,
   "id": "7dc0f11b",
   "metadata": {},
   "outputs": [],
   "source": [
    "Input Format:\n",
    "1\n",
    "8 5\n",
    "11 7 1 13 21 3 7 3\n",
    "11 3 7 1 7\n",
    "Explanation:\n",
    "\n",
    "1 → number of test cases (t)\n",
    "\n",
    "8 5 → sizes of arrays n1=8, n2=5\n",
    "\n",
    "11 7 1 13 21 3 7 3 → array a with 8 elements\n",
    "\n",
    "11 3 7 1 7 → array b with 5 elements\n",
    "\n"
   ]
  },
  {
   "cell_type": "code",
   "execution_count": 3,
   "id": "4c7bd292",
   "metadata": {},
   "outputs": [
    {
     "name": "stdout",
     "output_type": "stream",
     "text": [
      "Yes\n"
     ]
    }
   ],
   "source": [
    "from collections import Counter\n",
    "\n",
    "class Solution:\n",
    "    def isSubset(self, a, b):\n",
    "        freq_a = Counter(a)\n",
    "        freq_b = Counter(b)\n",
    "        for num in freq_b:  # loop through elements in b\n",
    "            if freq_b[num] > freq_a.get(num, 0):\n",
    "                return False\n",
    "        return True\n",
    "def main():\n",
    "    t = int(input())   # number of test cases\n",
    "    for _ in range(t):\n",
    "        n1, n2 = map(int, input().split())   # sizes of arrays\n",
    "        a = list(map(int, input().split()))\n",
    "        b = list(map(int, input().split()))\n",
    "        \n",
    "        obj = Solution()\n",
    "        if obj.isSubset(a, b):\n",
    "            print(\"Yes\")\n",
    "        else:\n",
    "            print(\"No\")\n",
    "\n",
    "if __name__ == \"__main__\":\n",
    "    main()"
   ]
  }
 ],
 "metadata": {
  "kernelspec": {
   "display_name": "base",
   "language": "python",
   "name": "python3"
  },
  "language_info": {
   "codemirror_mode": {
    "name": "ipython",
    "version": 3
   },
   "file_extension": ".py",
   "mimetype": "text/x-python",
   "name": "python",
   "nbconvert_exporter": "python",
   "pygments_lexer": "ipython3",
   "version": "3.11.5"
  }
 },
 "nbformat": 4,
 "nbformat_minor": 5
}
