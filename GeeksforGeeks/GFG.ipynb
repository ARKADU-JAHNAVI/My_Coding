{
 "cells": [
  {
   "cell_type": "code",
   "execution_count": null,
   "id": "bceee57e",
   "metadata": {},
   "outputs": [],
   "source": [
    "'''\n",
    "Input: a[] = [11, 7, 1, 13, 21, 3, 7, 3], b[] = [11, 3, 7, 1, 7]\n",
    "Output: true\n",
    "Explanation: b[] is a subset of a[]\n",
    "'''"
   ]
  },
  {
   "cell_type": "code",
   "execution_count": null,
   "id": "7dc0f11b",
   "metadata": {},
   "outputs": [],
   "source": [
    "''' \n",
    "Input Format:\n",
    "1\n",
    "8 5\n",
    "11 7 1 13 21 3 7 3\n",
    "11 3 7 1 7\n",
    "Explanation:\n",
    "\n",
    "1 → number of test cases (t)\n",
    "\n",
    "8 5 → sizes of arrays n1=8, n2=5\n",
    "\n",
    "11 7 1 13 21 3 7 3 → array a with 8 elements\n",
    "\n",
    "11 3 7 1 7 → array b with 5 elements\n",
    "'''\n",
    "\n"
   ]
  },
  {
   "cell_type": "code",
   "execution_count": 3,
   "id": "4c7bd292",
   "metadata": {},
   "outputs": [
    {
     "name": "stdout",
     "output_type": "stream",
     "text": [
      "Yes\n"
     ]
    }
   ],
   "source": [
    "from collections import Counter\n",
    "\n",
    "class Solution:\n",
    "    def isSubset(self, a, b):\n",
    "        freq_a = Counter(a)\n",
    "        freq_b = Counter(b)\n",
    "        for num in freq_b:  # loop through elements in b\n",
    "            if freq_b[num] > freq_a.get(num, 0):\n",
    "                return False\n",
    "        return True\n",
    "def main():\n",
    "    t = int(input())   # number of test cases\n",
    "    for _ in range(t):\n",
    "        n1, n2 = map(int, input().split())   # sizes of arrays\n",
    "        a = list(map(int, input().split()))\n",
    "        b = list(map(int, input().split()))\n",
    "        \n",
    "        obj = Solution()\n",
    "        if obj.isSubset(a, b):\n",
    "            print(\"Yes\")\n",
    "        else:\n",
    "            print(\"No\")\n",
    "\n",
    "if __name__ == \"__main__\":\n",
    "    main()"
   ]
  },
  {
   "cell_type": "code",
   "execution_count": null,
   "id": "fa9f0532",
   "metadata": {},
   "outputs": [],
   "source": []
  },
  {
   "cell_type": "code",
   "execution_count": null,
   "id": "578f802d",
   "metadata": {},
   "outputs": [],
   "source": [
    "''' \n",
    "Input: a[] = [2, 34, 11, 9, 3], b[] = [2, 1, 3, 5]\n",
    "Output: false\n",
    "Explanation: 3 is common in both the arrays.\n",
    "'''"
   ]
  },
  {
   "cell_type": "code",
   "execution_count": 4,
   "id": "a0861cb1",
   "metadata": {},
   "outputs": [],
   "source": [
    "#User function Template for python3\n",
    "class Solution:\n",
    "    # Function to check if two arrays are disjoint\n",
    "    def areDisjoint(self, a, b):\n",
    "        #code here\n",
    "        hash_set = set(a)\n",
    "        for num in b:\n",
    "            if num in hash_set:\n",
    "                return False\n",
    "        return True"
   ]
  },
  {
   "cell_type": "code",
   "execution_count": null,
   "id": "1f7fff97",
   "metadata": {},
   "outputs": [],
   "source": []
  },
  {
   "cell_type": "code",
   "execution_count": null,
   "id": "b87420e5",
   "metadata": {},
   "outputs": [],
   "source": [
    "''' \n",
    "# Check Equal Arrays\n",
    "Input: a[] = [1, 2, 5, 4, 0], b[] = [2, 4, 5, 0, 1]\n",
    "Output: true\n",
    "Explanation: Both the array can be rearranged to [0,1,2,4,5]\n",
    "'''"
   ]
  },
  {
   "cell_type": "code",
   "execution_count": 5,
   "metadata": {},
   "outputs": [],
   "source": [
    "class Solution:\n",
    "    def checkEqual(self, a, b) -> bool:\n",
    "        a = sorted(a)\n",
    "        b = sorted(b)\n",
    "        if a == b:\n",
    "           return True\n",
    "        else:\n",
    "            return False\n",
    "    "
   ]
  },
  {
   "cell_type": "code",
   "execution_count": null,
   "id": "ff7edc03",
   "metadata": {},
   "outputs": [],
   "source": []
  },
  {
   "cell_type": "code",
   "execution_count": null,
   "id": "ab6af36f",
   "metadata": {},
   "outputs": [],
   "source": [
    "''' \n",
    "# FizzBuzz\n",
    "Input: n = 3\n",
    "Output: [\"1\", \"2\", \"Fizz\"]\n",
    "Explanation: 1 and 2 are neither divisible by 3 nor 5, so we just output 1 and 2, and 3 is divisible by 3 so we output \"Fizz\".\n",
    "'''"
   ]
  },
  {
   "cell_type": "code",
   "execution_count": 6,
   "metadata": {},
   "outputs": [],
   "source": [
    "class Solution:\n",
    "    def fizzBuzz(self, n : int):\n",
    "        # code here\n",
    "        res = []\n",
    "        for i in range(1,n+1):\n",
    "            if i % 3 ==0 and i%5 == 0:\n",
    "                res.append(\"FizzBuzz\")\n",
    "            elif i%3==0:\n",
    "                res.append(\"Fizz\")\n",
    "            elif i%5 == 0:\n",
    "                res.append(\"Buzz\")\n",
    "            else:\n",
    "                res.append(str(i))\n",
    "        return res\n",
    "        \n",
    "        \n"
   ]
  },
  {
   "cell_type": "code",
   "execution_count": null,
   "id": "84056a58",
   "metadata": {},
   "outputs": [],
   "source": []
  },
  {
   "cell_type": "code",
   "execution_count": null,
   "id": "d892a37d",
   "metadata": {},
   "outputs": [],
   "source": [
    "''' \n",
    "# Kth distance\n",
    "Input: arr[] = [1, 2, 3, 4, 1, 2, 3, 4], k = 3\n",
    "Output: false\n",
    "Explanation: All duplicates are more than k distance away.\n",
    "'''"
   ]
  },
  {
   "cell_type": "code",
   "execution_count": 7,
   "id": "52662f8c",
   "metadata": {},
   "outputs": [],
   "source": [
    "#User function Template for python3\n",
    "class Solution:\n",
    "    def checkDuplicatesWithinK(self, arr, k):\n",
    "        # your code\n",
    "        myset = set()\n",
    "        for i in range(len(arr)):\n",
    "            if arr[i] in myset:\n",
    "                return True\n",
    "            myset.add(arr[i])\n",
    "            if len(myset) > k:\n",
    "                myset.remove(arr[i - k])\n",
    "        return False\n",
    "\n"
   ]
  },
  {
   "cell_type": "code",
   "execution_count": null,
   "id": "4ed924b9",
   "metadata": {},
   "outputs": [],
   "source": []
  },
  {
   "cell_type": "code",
   "execution_count": null,
   "id": "0b7f3484",
   "metadata": {},
   "outputs": [],
   "source": [
    "''' \n",
    "# Array Duplicates\n",
    "Input: arr[] = [2, 3, 1, 2, 3]\n",
    "Output: [2, 3] \n",
    "Explanation: 2 and 3 occur more than once in the given array.\n",
    "'''"
   ]
  },
  {
   "cell_type": "code",
   "execution_count": 8,
   "id": "88a33e1a",
   "metadata": {},
   "outputs": [],
   "source": [
    "class Solution:\n",
    "    def findDuplicates(self, arr):\n",
    "        # code here\n",
    "        res = []\n",
    "        seen = set()\n",
    "        for i in arr:\n",
    "            if i in seen:\n",
    "                res.append(i)\n",
    "            else:\n",
    "                seen.add(i)\n",
    "        return res\n",
    "            \n",
    "        "
   ]
  },
  {
   "cell_type": "code",
   "execution_count": null,
   "id": "c92bf308",
   "metadata": {},
   "outputs": [],
   "source": []
  },
  {
   "cell_type": "code",
   "execution_count": null,
   "metadata": {},
   "outputs": [],
   "source": [
    "'''\n",
    "Union of two arrays\n",
    "Input: a[] = [1, 2, 3], b[] = [4, 5, 6] \n",
    "Output: [1, 2, 3, 4, 5, 6]\n",
    "Explanation: Union set of both the arrays will be 1, 2, 3, 4, 5 and 6.\n",
    "'''"
   ]
  },
  {
   "cell_type": "code",
   "execution_count": 9,
   "id": "870a7222",
   "metadata": {},
   "outputs": [],
   "source": [
    "class Solution:    \n",
    "    def findUnion(self, a, b):\n",
    "        # code here\n",
    "        seen = set()\n",
    "        for i in range(len(a)):\n",
    "            seen.add(a[i])\n",
    "        for j in range(len(b)):\n",
    "            seen.add(b[j])\n",
    "        res = []\n",
    "        for num in seen:\n",
    "            res.append(num)\n",
    "        return res\n",
    "                "
   ]
  },
  {
   "cell_type": "code",
   "execution_count": null,
   "id": "0e8f2248",
   "metadata": {},
   "outputs": [],
   "source": []
  },
  {
   "cell_type": "code",
   "execution_count": null,
   "id": "c074878f",
   "metadata": {},
   "outputs": [],
   "source": [
    "''' \n",
    "# Intersection of Arrays with Distinct\n",
    "Input: a[] = [89, 24, 75, 11, 23], b[] = [89, 2, 4]\n",
    "Output: 1\n",
    "Explanation: 89 is the only element in the intersection of two arrays.\n",
    "'''\n"
   ]
  },
  {
   "cell_type": "code",
   "execution_count": 10,
   "id": "f310e624",
   "metadata": {},
   "outputs": [],
   "source": [
    "class Solution:\n",
    "    def intersectSize(self,a, b):\n",
    "        # code here\n",
    "        res = 0\n",
    "        seen = set(a)\n",
    "        for num in b:\n",
    "            if num in seen:\n",
    "                res += 1\n",
    "                seen.remove(num)\n",
    "        return res\n"
   ]
  },
  {
   "cell_type": "code",
   "execution_count": null,
   "id": "a1b0bea2",
   "metadata": {},
   "outputs": [],
   "source": []
  },
  {
   "cell_type": "code",
   "execution_count": null,
   "id": "b11c2a54",
   "metadata": {},
   "outputs": [],
   "source": [
    "'''\n",
    "Two Sum - Pair with Given Sum\n",
    "Input: arr[] = [0, -1, 2, -3, 1], target = -2\n",
    "Output: true\n",
    "Explanation: arr[3] + arr[4] = -3 + 1 = -2\n",
    "'''"
   ]
  },
  {
   "cell_type": "code",
   "execution_count": 12,
   "metadata": {},
   "outputs": [],
   "source": [
    "class Solution:\n",
    "\tdef twoSum(self, arr, target):\n",
    "\t\t# code here\n",
    "\t\tn = len(arr)\n",
    "\t\tfor i in range(n):\n",
    "\t\t    for j in range(i + 1, n):\n",
    "\t\t        if arr[i] + arr[j] == target:\n",
    "\t\t            return True\n",
    "\t\treturn False\n",
    "\t\t    "
   ]
  },
  {
   "cell_type": "code",
   "execution_count": null,
   "id": "241b146b",
   "metadata": {},
   "outputs": [],
   "source": [
    "# OPTIMAL SOLUTION"
   ]
  },
  {
   "cell_type": "code",
   "execution_count": 11,
   "id": "eb4374d8",
   "metadata": {},
   "outputs": [],
   "source": [
    "class Solution:\n",
    "\tdef twoSum(self, arr, target):\n",
    "\t\t# code here\n",
    "\t\tarr.sort()\n",
    "\t\tleft, right = 0, len(arr) - 1\n",
    "\t\twhile left < right:\n",
    "\t\t    sum = arr[left] + arr[right]\n",
    "\t\t    if sum ==  target:\n",
    "\t\t        return True\n",
    "\t\t    elif sum < target:\n",
    "\t\t        left += 1\n",
    "\t\t    else:\n",
    "\t\t        right -= 1\n",
    "\t\treturn False\n",
    "\t\t    "
   ]
  },
  {
   "cell_type": "code",
   "execution_count": null,
   "id": "69848f46",
   "metadata": {},
   "outputs": [],
   "source": [
    "class Solution:\n",
    "    def countPairs(self, arr, target):\n",
    "        #code here\n",
    "        n = len(arr)\n",
    "        cnt = 0\n",
    "        for i in range(n):\n",
    "            for j in range(i+1, n):\n",
    "                if arr[i] + arr[j] == target:\n",
    "                    cnt += 1\n",
    "        return cnt\n",
    "        "
   ]
  },
  {
   "cell_type": "code",
   "execution_count": null,
   "id": "20e1a99a",
   "metadata": {},
   "outputs": [],
   "source": [
    "# OPTIMAL SOLUTION\n",
    "\n",
    "https://www.geeksforgeeks.org/problems/count-pairs-with-given-sum--150253/1"
   ]
  },
  {
   "cell_type": "code",
   "execution_count": null,
   "id": "60cf82b0",
   "metadata": {},
   "outputs": [],
   "source": [
    "''' \n",
    "Pairs with difference k\n",
    "Input: arr[] = [1, 4, 1, 4, 5], k = 3\n",
    "Output: 4\n",
    "Explanation: There are 4 pairs with absolute difference 3, the pairs are {1, 4}, {1, 4}, {4, 1} and {1, 4}.\n",
    "'''"
   ]
  },
  {
   "cell_type": "code",
   "execution_count": 6,
   "id": "172b5a67",
   "metadata": {},
   "outputs": [],
   "source": [
    "#User function Template for python3\n",
    "\n",
    " \n",
    "class Solution:\n",
    "    def countpairs(self, arr, k):\n",
    "        n = len(arr)\n",
    "        cnt == 0\n",
    "        for i in range(n):\n",
    "            for j in range(i + 1, len(arr)):\n",
    "                if abs(arr[i] - arr[j]) == k:\n",
    "                    cnt += 1\n",
    "            return cnt\n",
    "\n"
   ]
  },
  {
   "cell_type": "code",
   "execution_count": null,
   "metadata": {},
   "outputs": [],
   "source": [
    "''' \n",
    "Find Only Repetitive Element from 1 to n-1\n",
    "\n",
    "Input: arr[] = [1, 3, 2, 3, 4]\n",
    "Output: 3 \n",
    "Explanation: The number 3 is the only repeating element.\n",
    "'''"
   ]
  },
  {
   "cell_type": "code",
   "execution_count": 7,
   "id": "a9e4a110",
   "metadata": {},
   "outputs": [],
   "source": [
    "#User function Template for python3\n",
    "class Solution:\n",
    "    def findDuplicate(self, arr):\n",
    "        #code here\n",
    "        s = set()\n",
    "        for x in arr:\n",
    "            if x in s:\n",
    "                return x\n",
    "            s.add(x)\n",
    "        return x"
   ]
  },
  {
   "cell_type": "code",
   "execution_count": null,
   "id": "0e1ab04e",
   "metadata": {},
   "outputs": [],
   "source": [
    "''' \n",
    "Missing Element in Range\n",
    "Input: arr[] = [10, 12, 11, 15], low = 10, high = 15\n",
    "Output: [13, 14]\n",
    "Explaination: Numbers 13 and 14 lie in the range [10, 15] but are not present in the array.\n",
    "'''"
   ]
  },
  {
   "cell_type": "code",
   "execution_count": 8,
   "id": "82158e78",
   "metadata": {},
   "outputs": [],
   "source": [
    "class Solution:\n",
    "    def missingRange(self, arr, low, high):\n",
    "        #code here\n",
    "        s = set(arr)\n",
    "        missing = []\n",
    "        for x in range(low, high + 1):\n",
    "            if x not in s:\n",
    "                missing.append(x)\n",
    "        return missing"
   ]
  },
  {
   "cell_type": "code",
   "execution_count": null,
   "id": "99d203ec",
   "metadata": {},
   "outputs": [],
   "source": [
    "''' \n",
    "Missing Elements of a Range in an Array\n",
    "\n",
    "https://www.geeksforgeeks.org/dsa/elements-to-be-added-so-that-all-elements-of-a-range-are-present-in-array/\n",
    "\n",
    "'''"
   ]
  },
  {
   "cell_type": "code",
   "execution_count": null,
   "id": "533f9a6c",
   "metadata": {},
   "outputs": [],
   "source": []
  },
  {
   "cell_type": "code",
   "execution_count": null,
   "id": "7cf8ae60",
   "metadata": {},
   "outputs": [],
   "source": []
  }
 ],
 "metadata": {
  "kernelspec": {
   "display_name": "base",
   "language": "python",
   "name": "python3"
  },
  "language_info": {
   "codemirror_mode": {
    "name": "ipython",
    "version": 3
   },
   "file_extension": ".py",
   "mimetype": "text/x-python",
   "name": "python",
   "nbconvert_exporter": "python",
   "pygments_lexer": "ipython3",
   "version": "3.11.5"
  }
 },
 "nbformat": 4,
 "nbformat_minor": 5
}
