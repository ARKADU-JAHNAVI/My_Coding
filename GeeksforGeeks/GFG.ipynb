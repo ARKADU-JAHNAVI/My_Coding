{
 "cells": [
  {
   "cell_type": "code",
   "execution_count": null,
   "id": "bceee57e",
   "metadata": {},
   "outputs": [],
   "source": [
    "Input: a[] = [11, 7, 1, 13, 21, 3, 7, 3], b[] = [11, 3, 7, 1, 7]\n",
    "Output: true\n",
    "Explanation: b[] is a subset of a[]"
   ]
  },
  {
   "cell_type": "code",
   "execution_count": null,
   "id": "7dc0f11b",
   "metadata": {},
   "outputs": [],
   "source": [
    "Input Format:\n",
    "1\n",
    "8 5\n",
    "11 7 1 13 21 3 7 3\n",
    "11 3 7 1 7\n",
    "Explanation:\n",
    "\n",
    "1 → number of test cases (t)\n",
    "\n",
    "8 5 → sizes of arrays n1=8, n2=5\n",
    "\n",
    "11 7 1 13 21 3 7 3 → array a with 8 elements\n",
    "\n",
    "11 3 7 1 7 → array b with 5 elements\n",
    "\n"
   ]
  },
  {
   "cell_type": "code",
   "execution_count": 3,
   "id": "4c7bd292",
   "metadata": {},
   "outputs": [
    {
     "name": "stdout",
     "output_type": "stream",
     "text": [
      "Yes\n"
     ]
    }
   ],
   "source": [
    "from collections import Counter\n",
    "\n",
    "class Solution:\n",
    "    def isSubset(self, a, b):\n",
    "        freq_a = Counter(a)\n",
    "        freq_b = Counter(b)\n",
    "        for num in freq_b:  # loop through elements in b\n",
    "            if freq_b[num] > freq_a.get(num, 0):\n",
    "                return False\n",
    "        return True\n",
    "def main():\n",
    "    t = int(input())   # number of test cases\n",
    "    for _ in range(t):\n",
    "        n1, n2 = map(int, input().split())   # sizes of arrays\n",
    "        a = list(map(int, input().split()))\n",
    "        b = list(map(int, input().split()))\n",
    "        \n",
    "        obj = Solution()\n",
    "        if obj.isSubset(a, b):\n",
    "            print(\"Yes\")\n",
    "        else:\n",
    "            print(\"No\")\n",
    "\n",
    "if __name__ == \"__main__\":\n",
    "    main()"
   ]
  },
  {
   "cell_type": "code",
   "execution_count": null,
   "id": "fa9f0532",
   "metadata": {},
   "outputs": [],
   "source": []
  },
  {
   "cell_type": "code",
   "execution_count": null,
   "id": "578f802d",
   "metadata": {},
   "outputs": [],
   "source": [
    "Input: a[] = [2, 34, 11, 9, 3], b[] = [2, 1, 3, 5]\n",
    "Output: false\n",
    "Explanation: 3 is common in both the arrays."
   ]
  },
  {
   "cell_type": "code",
   "execution_count": 4,
   "id": "a0861cb1",
   "metadata": {},
   "outputs": [],
   "source": [
    "#User function Template for python3\n",
    "class Solution:\n",
    "    # Function to check if two arrays are disjoint\n",
    "    def areDisjoint(self, a, b):\n",
    "        #code here\n",
    "        hash_set = set(a)\n",
    "        for num in b:\n",
    "            if num in hash_set:\n",
    "                return False\n",
    "        return True"
   ]
  },
  {
   "cell_type": "code",
   "execution_count": null,
   "id": "1f7fff97",
   "metadata": {},
   "outputs": [],
   "source": []
  },
  {
   "cell_type": "code",
   "execution_count": null,
   "id": "b87420e5",
   "metadata": {},
   "outputs": [],
   "source": [
    "# Check Equal Arrays\n",
    "Input: a[] = [1, 2, 5, 4, 0], b[] = [2, 4, 5, 0, 1]\n",
    "Output: true\n",
    "Explanation: Both the array can be rearranged to [0,1,2,4,5]"
   ]
  },
  {
   "cell_type": "code",
   "execution_count": 5,
   "metadata": {},
   "outputs": [],
   "source": [
    "class Solution:\n",
    "    def checkEqual(self, a, b) -> bool:\n",
    "        a = sorted(a)\n",
    "        b = sorted(b)\n",
    "        if a == b:\n",
    "           return True\n",
    "        else:\n",
    "            return False\n",
    "    "
   ]
  },
  {
   "cell_type": "code",
   "execution_count": null,
   "id": "ff7edc03",
   "metadata": {},
   "outputs": [],
   "source": []
  },
  {
   "cell_type": "code",
   "execution_count": null,
   "id": "ab6af36f",
   "metadata": {},
   "outputs": [],
   "source": [
    "# FizzBuzz\n",
    "Input: n = 3\n",
    "Output: [\"1\", \"2\", \"Fizz\"]\n",
    "Explanation: 1 and 2 are neither divisible by 3 nor 5, so we just output 1 and 2, and 3 is divisible by 3 so we output \"Fizz\"."
   ]
  },
  {
   "cell_type": "code",
   "execution_count": 6,
   "metadata": {},
   "outputs": [],
   "source": [
    "class Solution:\n",
    "    def fizzBuzz(self, n : int):\n",
    "        # code here\n",
    "        res = []\n",
    "        for i in range(1,n+1):\n",
    "            if i % 3 ==0 and i%5 == 0:\n",
    "                res.append(\"FizzBuzz\")\n",
    "            elif i%3==0:\n",
    "                res.append(\"Fizz\")\n",
    "            elif i%5 == 0:\n",
    "                res.append(\"Buzz\")\n",
    "            else:\n",
    "                res.append(str(i))\n",
    "        return res\n",
    "        \n",
    "        \n"
   ]
  },
  {
   "cell_type": "code",
   "execution_count": null,
   "id": "84056a58",
   "metadata": {},
   "outputs": [],
   "source": []
  },
  {
   "cell_type": "code",
   "execution_count": null,
   "id": "52662f8c",
   "metadata": {},
   "outputs": [],
   "source": []
  },
  {
   "cell_type": "code",
   "execution_count": null,
   "id": "4ed924b9",
   "metadata": {},
   "outputs": [],
   "source": []
  }
 ],
 "metadata": {
  "kernelspec": {
   "display_name": "base",
   "language": "python",
   "name": "python3"
  },
  "language_info": {
   "codemirror_mode": {
    "name": "ipython",
    "version": 3
   },
   "file_extension": ".py",
   "mimetype": "text/x-python",
   "name": "python",
   "nbconvert_exporter": "python",
   "pygments_lexer": "ipython3",
   "version": "3.11.5"
  }
 },
 "nbformat": 4,
 "nbformat_minor": 5
}
