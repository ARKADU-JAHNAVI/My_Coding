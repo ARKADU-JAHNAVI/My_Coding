{
 "cells": [
  {
   "cell_type": "code",
   "execution_count": 1,
   "id": "9241bf6c",
   "metadata": {},
   "outputs": [],
   "source": [
    "class Solution:\n",
    "    def canPair(self, arr, k):\n",
    "        #code here.\n",
    "        n = len(arr)\n",
    "        if n % 2 == 1:\n",
    "            return False\n",
    "        count = 0\n",
    "        vis = [-1] * n\n",
    "        for i in range(n):\n",
    "            for j in range(i + 1, n):\n",
    "                if (arr[i] + arr[j] % k == 0) and vis[i] == -1 and vis[j] == -1:\n",
    "                    count += 1\n",
    "                    vis[i] = 1\n",
    "                    vis[j] = 1\n",
    "        return True\n",
    "        \n",
    "        \n",
    "        #print(\"true\" if canPair(arr, k) else False)\n"
   ]
  },
  {
   "cell_type": "code",
   "execution_count": null,
   "id": "1adfe852",
   "metadata": {},
   "outputs": [],
   "source": []
  },
  {
   "cell_type": "code",
   "execution_count": null,
   "id": "017f1a88",
   "metadata": {},
   "outputs": [],
   "source": []
  }
 ],
 "metadata": {
  "kernelspec": {
   "display_name": "base",
   "language": "python",
   "name": "python3"
  },
  "language_info": {
   "codemirror_mode": {
    "name": "ipython",
    "version": 3
   },
   "file_extension": ".py",
   "mimetype": "text/x-python",
   "name": "python",
   "nbconvert_exporter": "python",
   "pygments_lexer": "ipython3",
   "version": "3.11.5"
  }
 },
 "nbformat": 4,
 "nbformat_minor": 5
}
